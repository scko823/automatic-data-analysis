{
 "cells": [
  {
   "cell_type": "markdown",
   "metadata": {},
   "source": [
    "In this notebook I will try to process the drive data generated from my Automatic Link.\n",
    "I will try to provide a general way for everyone to exclude some private location information so everybody may be able to share they data if they chose to."
   ]
  },
  {
   "cell_type": "code",
   "execution_count": 20,
   "metadata": {
    "collapsed": true
   },
   "outputs": [],
   "source": [
    "# import what I need\n",
    "import pandas as pd\n",
    "import numpy as np\n",
    "import matplotlib.pyplot as plt\n",
    "import seaborn as sns\n",
    "%matplotlib inline"
   ]
  },
  {
   "cell_type": "code",
   "execution_count": 21,
   "metadata": {
    "collapsed": true
   },
   "outputs": [],
   "source": [
    "data = pd.read_csv(\"data/civic data.csv\", parse_dates= [2,4])"
   ]
  },
  {
   "cell_type": "markdown",
   "metadata": {},
   "source": [
    "Now the csv file contain location data of where and when I have been to. I will transform the location data, and for the most part I will just label my commute and group any other trip as 'other'. There are other location that I regularly go to, but I would rather not share here."
   ]
  },
  {
   "cell_type": "code",
   "execution_count": 22,
   "metadata": {
    "collapsed": false
   },
   "outputs": [
    {
     "data": {
      "text/plain": [
       "['Start Location Lat',\n",
       " 'Start Location Lon',\n",
       " 'Start Location Accuracy (meters)',\n",
       " 'End Location Lat',\n",
       " 'End Location Lon',\n",
       " 'End Location Accuracy (meters)',\n",
       " 'Path',\n",
       " 'Tags']"
      ]
     },
     "execution_count": 22,
     "metadata": {},
     "output_type": "execute_result"
    }
   ],
   "source": [
    "ls=[]\n",
    "for i in range(15,23):\n",
    "    ls.append(data.columns.values[i])\n",
    "ls"
   ]
  },
  {
   "cell_type": "code",
   "execution_count": 23,
   "metadata": {
    "collapsed": false
   },
   "outputs": [],
   "source": [
    "data=data.drop(ls, axis=1)"
   ]
  },
  {
   "cell_type": "markdown",
   "metadata": {},
   "source": [
    "I also dropped the above columns. Obviously I don't want to show my location details; I will reuse the Tags column later on.\n"
   ]
  },
  {
   "cell_type": "markdown",
   "metadata": {},
   "source": [
    "First put the your home street name. I found that because of  the phone GPS accuaracy, your location may be off. So if your home is on the concer of Washington Street and Main Street, it is better to put both of them there.\n",
    "Based on how popular your street name is (Washington and Main is quite popular), you may need to include your street number. For me, my street name of interest is quite unique and I didn't have the problem.\n",
    "You may use data['Start Location Name'].unique() to see if you will run into the problem of incorrectly labeling\n",
    "The same idea applies to my work"
   ]
  },
  {
   "cell_type": "code",
   "execution_count": 24,
   "metadata": {
    "collapsed": true
   },
   "outputs": [],
   "source": [
    "home_name_1 =\"Ironwood\"\n",
    "home_name_2 =\"Mesquite\"\n",
    "work_name_1 = \"Mountain Road\"\n",
    "work_name_2 = \"East Pecos Road, Mesa, AZ 85212, USA\"\n"
   ]
  },
  {
   "cell_type": "markdown",
   "metadata": {},
   "source": [
    "Now we set the start and end location to just label them just as Home or Work"
   ]
  },
  {
   "cell_type": "code",
   "execution_count": 25,
   "metadata": {
    "collapsed": true
   },
   "outputs": [],
   "source": [
    "data.loc[(data['Start Location Name'].str.contains(work_name_1)==True)|(data['Start Location Name'].str.contains(work_name_2)==True)\n",
    "         ,'Start Location Name'] ='Work'\n",
    "data.loc[(data['Start Location Name'].str.contains(home_name_1)==True)|(data['Start Location Name'].str.contains(home_name_2)==True)\n",
    "         ,'Start Location Name'] ='Home'\n",
    "data.loc[(data['End Location Name'].str.contains(work_name_1)==True)|(data['End Location Name'].str.contains(work_name_2)==True)\n",
    "         ,'End Location Name'] ='Work'\n",
    "data.loc[(data['End Location Name'].str.contains(home_name_1)==True)|(data['End Location Name'].str.contains(home_name_2)==True)\n",
    "         ,'End Location Name'] ='Home'"
   ]
  },
  {
   "cell_type": "markdown",
   "metadata": {},
   "source": [
    "After we label them, we will make use of the Tags column to identify commute trips, and all other trips are under 'Other'"
   ]
  },
  {
   "cell_type": "code",
   "execution_count": 26,
   "metadata": {
    "collapsed": false
   },
   "outputs": [],
   "source": [
    "commute_mask = (data['Start Location Name'] =='Home') & (data['End Location Name'] =='Work')|(data['End Location Name'] =='Home') & (data['Start Location Name'] =='Work')\n",
    "data.loc[commute_mask, 'Tags'] = 'commute'\n",
    "data.Tags = data.Tags.fillna('Other')"
   ]
  },
  {
   "cell_type": "code",
   "execution_count": 27,
   "metadata": {
    "collapsed": false
   },
   "outputs": [],
   "source": [
    "data=data.drop(['Start Location Name','End Location Name','Vehicle'], axis=1)\n",
    "data.to_csv('data/public_data.csv')"
   ]
  },
  {
   "cell_type": "code",
   "execution_count": null,
   "metadata": {
    "collapsed": true
   },
   "outputs": [],
   "source": []
  }
 ],
 "metadata": {
  "kernelspec": {
   "display_name": "Python 2",
   "language": "python",
   "name": "python2"
  },
  "language_info": {
   "codemirror_mode": {
    "name": "ipython",
    "version": 2
   },
   "file_extension": ".py",
   "mimetype": "text/x-python",
   "name": "python",
   "nbconvert_exporter": "python",
   "pygments_lexer": "ipython2",
   "version": "2.7.6"
  }
 },
 "nbformat": 4,
 "nbformat_minor": 0
}
